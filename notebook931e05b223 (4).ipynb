{
 "cells": [
  {
   "cell_type": "code",
   "execution_count": 1,
   "id": "8a4042c7",
   "metadata": {
    "_cell_guid": "b1076dfc-b9ad-4769-8c92-a6c4dae69d19",
    "_uuid": "8f2839f25d086af736a60e9eeb907d3b93b6e0e5",
    "execution": {
     "iopub.execute_input": "2023-11-12T14:15:34.757991Z",
     "iopub.status.busy": "2023-11-12T14:15:34.757596Z",
     "iopub.status.idle": "2023-11-12T14:15:35.534263Z",
     "shell.execute_reply": "2023-11-12T14:15:35.533099Z"
    },
    "papermill": {
     "duration": 0.788972,
     "end_time": "2023-11-12T14:15:35.536676",
     "exception": false,
     "start_time": "2023-11-12T14:15:34.747704",
     "status": "completed"
    },
    "tags": []
   },
   "outputs": [
    {
     "name": "stdout",
     "output_type": "stream",
     "text": [
      "/kaggle/input/ielts-writing-dataset10/ielts_writing_dataset.csv\n"
     ]
    }
   ],
   "source": [
    "# This Python 3 environment comes with many helpful analytics libraries installed\n",
    "# It is defined by the kaggle/python Docker image: https://github.com/kaggle/docker-python\n",
    "# For example, here's several helpful packages to load\n",
    "\n",
    "import numpy as np # linear algebra\n",
    "import pandas as pd # data processing, CSV file I/O (e.g. pd.read_csv)\n",
    "\n",
    "# Input data files are available in the read-only \"../input/\" directory\n",
    "# For example, running this (by clicking run or pressing Shift+Enter) will list all files under the input directory\n",
    "\n",
    "import os\n",
    "for dirname, _, filenames in os.walk('/kaggle/input'):\n",
    "    for filename in filenames:\n",
    "        print(os.path.join(dirname, filename))\n",
    "\n",
    "# You can write up to 20GB to the current directory (/kaggle/working/) that gets preserved as output when you create a version using \"Save & Run All\" \n",
    "# You can also write temporary files to /kaggle/temp/, but they won't be saved outside of the current session"
   ]
  },
  {
   "cell_type": "markdown",
   "id": "e79bb43b",
   "metadata": {
    "papermill": {
     "duration": 0.009977,
     "end_time": "2023-11-12T14:15:35.556171",
     "exception": false,
     "start_time": "2023-11-12T14:15:35.546194",
     "status": "completed"
    },
    "tags": []
   },
   "source": []
  },
  {
   "cell_type": "markdown",
   "id": "61373f51",
   "metadata": {
    "papermill": {
     "duration": 0.008501,
     "end_time": "2023-11-12T14:15:35.573668",
     "exception": false,
     "start_time": "2023-11-12T14:15:35.565167",
     "status": "completed"
    },
    "tags": []
   },
   "source": [
    "# install dependencies"
   ]
  },
  {
   "cell_type": "code",
   "execution_count": 2,
   "id": "5c3eb98f",
   "metadata": {
    "execution": {
     "iopub.execute_input": "2023-11-12T14:15:35.592930Z",
     "iopub.status.busy": "2023-11-12T14:15:35.592425Z",
     "iopub.status.idle": "2023-11-12T14:15:49.209676Z",
     "shell.execute_reply": "2023-11-12T14:15:49.208701Z"
    },
    "papermill": {
     "duration": 13.62965,
     "end_time": "2023-11-12T14:15:49.212187",
     "exception": false,
     "start_time": "2023-11-12T14:15:35.582537",
     "status": "completed"
    },
    "tags": []
   },
   "outputs": [
    {
     "name": "stdout",
     "output_type": "stream",
     "text": [
      "Requirement already satisfied: transformers in /opt/conda/lib/python3.10/site-packages (4.33.0)\r\n",
      "Requirement already satisfied: tensorflow in /opt/conda/lib/python3.10/site-packages (2.12.0)\r\n",
      "Requirement already satisfied: filelock in /opt/conda/lib/python3.10/site-packages (from transformers) (3.12.2)\r\n",
      "Requirement already satisfied: huggingface-hub<1.0,>=0.15.1 in /opt/conda/lib/python3.10/site-packages (from transformers) (0.16.4)\r\n",
      "Requirement already satisfied: numpy>=1.17 in /opt/conda/lib/python3.10/site-packages (from transformers) (1.23.5)\r\n",
      "Requirement already satisfied: packaging>=20.0 in /opt/conda/lib/python3.10/site-packages (from transformers) (21.3)\r\n",
      "Requirement already satisfied: pyyaml>=5.1 in /opt/conda/lib/python3.10/site-packages (from transformers) (6.0)\r\n",
      "Requirement already satisfied: regex!=2019.12.17 in /opt/conda/lib/python3.10/site-packages (from transformers) (2023.6.3)\r\n",
      "Requirement already satisfied: requests in /opt/conda/lib/python3.10/site-packages (from transformers) (2.31.0)\r\n",
      "Requirement already satisfied: tokenizers!=0.11.3,<0.14,>=0.11.1 in /opt/conda/lib/python3.10/site-packages (from transformers) (0.13.3)\r\n",
      "Requirement already satisfied: safetensors>=0.3.1 in /opt/conda/lib/python3.10/site-packages (from transformers) (0.3.3)\r\n",
      "Requirement already satisfied: tqdm>=4.27 in /opt/conda/lib/python3.10/site-packages (from transformers) (4.66.1)\r\n",
      "Requirement already satisfied: absl-py>=1.0.0 in /opt/conda/lib/python3.10/site-packages (from tensorflow) (1.4.0)\r\n",
      "Requirement already satisfied: astunparse>=1.6.0 in /opt/conda/lib/python3.10/site-packages (from tensorflow) (1.6.3)\r\n",
      "Requirement already satisfied: flatbuffers>=2.0 in /opt/conda/lib/python3.10/site-packages (from tensorflow) (23.5.26)\r\n",
      "Requirement already satisfied: gast<=0.4.0,>=0.2.1 in /opt/conda/lib/python3.10/site-packages (from tensorflow) (0.4.0)\r\n",
      "Requirement already satisfied: google-pasta>=0.1.1 in /opt/conda/lib/python3.10/site-packages (from tensorflow) (0.2.0)\r\n",
      "Requirement already satisfied: grpcio<2.0,>=1.24.3 in /opt/conda/lib/python3.10/site-packages (from tensorflow) (1.51.1)\r\n",
      "Requirement already satisfied: h5py>=2.9.0 in /opt/conda/lib/python3.10/site-packages (from tensorflow) (3.9.0)\r\n",
      "Requirement already satisfied: jax>=0.3.15 in /opt/conda/lib/python3.10/site-packages (from tensorflow) (0.4.13)\r\n",
      "Requirement already satisfied: keras<2.13,>=2.12.0 in /opt/conda/lib/python3.10/site-packages (from tensorflow) (2.12.0)\r\n",
      "Requirement already satisfied: libclang>=13.0.0 in /opt/conda/lib/python3.10/site-packages (from tensorflow) (16.0.0)\r\n",
      "Requirement already satisfied: opt-einsum>=2.3.2 in /opt/conda/lib/python3.10/site-packages (from tensorflow) (3.3.0)\r\n",
      "Requirement already satisfied: protobuf!=4.21.0,!=4.21.1,!=4.21.2,!=4.21.3,!=4.21.4,!=4.21.5,<5.0.0dev,>=3.20.3 in /opt/conda/lib/python3.10/site-packages (from tensorflow) (3.20.3)\r\n",
      "Requirement already satisfied: setuptools in /opt/conda/lib/python3.10/site-packages (from tensorflow) (68.0.0)\r\n",
      "Requirement already satisfied: six>=1.12.0 in /opt/conda/lib/python3.10/site-packages (from tensorflow) (1.16.0)\r\n",
      "Requirement already satisfied: tensorboard<2.13,>=2.12 in /opt/conda/lib/python3.10/site-packages (from tensorflow) (2.12.3)\r\n",
      "Requirement already satisfied: tensorflow-estimator<2.13,>=2.12.0 in /opt/conda/lib/python3.10/site-packages (from tensorflow) (2.12.0)\r\n",
      "Requirement already satisfied: termcolor>=1.1.0 in /opt/conda/lib/python3.10/site-packages (from tensorflow) (2.3.0)\r\n",
      "Requirement already satisfied: typing-extensions>=3.6.6 in /opt/conda/lib/python3.10/site-packages (from tensorflow) (4.6.3)\r\n",
      "Requirement already satisfied: wrapt<1.15,>=1.11.0 in /opt/conda/lib/python3.10/site-packages (from tensorflow) (1.14.1)\r\n",
      "Requirement already satisfied: tensorflow-io-gcs-filesystem>=0.23.1 in /opt/conda/lib/python3.10/site-packages (from tensorflow) (0.32.0)\r\n",
      "Requirement already satisfied: wheel<1.0,>=0.23.0 in /opt/conda/lib/python3.10/site-packages (from astunparse>=1.6.0->tensorflow) (0.40.0)\r\n",
      "Requirement already satisfied: fsspec in /opt/conda/lib/python3.10/site-packages (from huggingface-hub<1.0,>=0.15.1->transformers) (2023.9.0)\r\n",
      "Requirement already satisfied: ml-dtypes>=0.1.0 in /opt/conda/lib/python3.10/site-packages (from jax>=0.3.15->tensorflow) (0.2.0)\r\n",
      "Requirement already satisfied: scipy>=1.7 in /opt/conda/lib/python3.10/site-packages (from jax>=0.3.15->tensorflow) (1.11.2)\r\n",
      "Requirement already satisfied: pyparsing!=3.0.5,>=2.0.2 in /opt/conda/lib/python3.10/site-packages (from packaging>=20.0->transformers) (3.0.9)\r\n",
      "Requirement already satisfied: google-auth<3,>=1.6.3 in /opt/conda/lib/python3.10/site-packages (from tensorboard<2.13,>=2.12->tensorflow) (2.20.0)\r\n",
      "Requirement already satisfied: google-auth-oauthlib<1.1,>=0.5 in /opt/conda/lib/python3.10/site-packages (from tensorboard<2.13,>=2.12->tensorflow) (1.0.0)\r\n",
      "Requirement already satisfied: markdown>=2.6.8 in /opt/conda/lib/python3.10/site-packages (from tensorboard<2.13,>=2.12->tensorflow) (3.4.3)\r\n",
      "Requirement already satisfied: tensorboard-data-server<0.8.0,>=0.7.0 in /opt/conda/lib/python3.10/site-packages (from tensorboard<2.13,>=2.12->tensorflow) (0.7.1)\r\n",
      "Requirement already satisfied: werkzeug>=1.0.1 in /opt/conda/lib/python3.10/site-packages (from tensorboard<2.13,>=2.12->tensorflow) (2.3.7)\r\n",
      "Requirement already satisfied: charset-normalizer<4,>=2 in /opt/conda/lib/python3.10/site-packages (from requests->transformers) (3.1.0)\r\n",
      "Requirement already satisfied: idna<4,>=2.5 in /opt/conda/lib/python3.10/site-packages (from requests->transformers) (3.4)\r\n",
      "Requirement already satisfied: urllib3<3,>=1.21.1 in /opt/conda/lib/python3.10/site-packages (from requests->transformers) (1.26.15)\r\n",
      "Requirement already satisfied: certifi>=2017.4.17 in /opt/conda/lib/python3.10/site-packages (from requests->transformers) (2023.7.22)\r\n",
      "Requirement already satisfied: cachetools<6.0,>=2.0.0 in /opt/conda/lib/python3.10/site-packages (from google-auth<3,>=1.6.3->tensorboard<2.13,>=2.12->tensorflow) (4.2.4)\r\n",
      "Requirement already satisfied: pyasn1-modules>=0.2.1 in /opt/conda/lib/python3.10/site-packages (from google-auth<3,>=1.6.3->tensorboard<2.13,>=2.12->tensorflow) (0.2.7)\r\n",
      "Requirement already satisfied: rsa<5,>=3.1.4 in /opt/conda/lib/python3.10/site-packages (from google-auth<3,>=1.6.3->tensorboard<2.13,>=2.12->tensorflow) (4.9)\r\n",
      "Requirement already satisfied: requests-oauthlib>=0.7.0 in /opt/conda/lib/python3.10/site-packages (from google-auth-oauthlib<1.1,>=0.5->tensorboard<2.13,>=2.12->tensorflow) (1.3.1)\r\n",
      "Requirement already satisfied: MarkupSafe>=2.1.1 in /opt/conda/lib/python3.10/site-packages (from werkzeug>=1.0.1->tensorboard<2.13,>=2.12->tensorflow) (2.1.3)\r\n",
      "Requirement already satisfied: pyasn1<0.5.0,>=0.4.6 in /opt/conda/lib/python3.10/site-packages (from pyasn1-modules>=0.2.1->google-auth<3,>=1.6.3->tensorboard<2.13,>=2.12->tensorflow) (0.4.8)\r\n",
      "Requirement already satisfied: oauthlib>=3.0.0 in /opt/conda/lib/python3.10/site-packages (from requests-oauthlib>=0.7.0->google-auth-oauthlib<1.1,>=0.5->tensorboard<2.13,>=2.12->tensorflow) (3.2.2)\r\n"
     ]
    }
   ],
   "source": [
    "!pip install transformers tensorflow"
   ]
  },
  {
   "cell_type": "code",
   "execution_count": 3,
   "id": "ab0ebc83",
   "metadata": {
    "execution": {
     "iopub.execute_input": "2023-11-12T14:15:49.233236Z",
     "iopub.status.busy": "2023-11-12T14:15:49.232613Z",
     "iopub.status.idle": "2023-11-12T14:16:03.653472Z",
     "shell.execute_reply": "2023-11-12T14:16:03.652700Z"
    },
    "papermill": {
     "duration": 14.433849,
     "end_time": "2023-11-12T14:16:03.655828",
     "exception": false,
     "start_time": "2023-11-12T14:15:49.221979",
     "status": "completed"
    },
    "tags": []
   },
   "outputs": [
    {
     "name": "stderr",
     "output_type": "stream",
     "text": [
      "/opt/conda/lib/python3.10/site-packages/scipy/__init__.py:146: UserWarning: A NumPy version >=1.16.5 and <1.23.0 is required for this version of SciPy (detected version 1.23.5\n",
      "  warnings.warn(f\"A NumPy version >={np_minversion} and <{np_maxversion}\"\n"
     ]
    }
   ],
   "source": [
    "from transformers import BertTokenizer, TFBertForSequenceClassification\n",
    "import tensorflow as tf"
   ]
  },
  {
   "cell_type": "code",
   "execution_count": 4,
   "id": "7505e77b",
   "metadata": {
    "execution": {
     "iopub.execute_input": "2023-11-12T14:16:03.677736Z",
     "iopub.status.busy": "2023-11-12T14:16:03.677187Z",
     "iopub.status.idle": "2023-11-12T14:16:20.174627Z",
     "shell.execute_reply": "2023-11-12T14:16:20.173637Z"
    },
    "papermill": {
     "duration": 16.509779,
     "end_time": "2023-11-12T14:16:20.176812",
     "exception": false,
     "start_time": "2023-11-12T14:16:03.667033",
     "status": "completed"
    },
    "tags": []
   },
   "outputs": [
    {
     "data": {
      "application/vnd.jupyter.widget-view+json": {
       "model_id": "a1114bf61444461d9596f59e58c64600",
       "version_major": 2,
       "version_minor": 0
      },
      "text/plain": [
       "Downloading (…)solve/main/vocab.txt:   0%|          | 0.00/232k [00:00<?, ?B/s]"
      ]
     },
     "metadata": {},
     "output_type": "display_data"
    },
    {
     "data": {
      "application/vnd.jupyter.widget-view+json": {
       "model_id": "b5cefa2fd16f4e64a38dec2f4fb680aa",
       "version_major": 2,
       "version_minor": 0
      },
      "text/plain": [
       "Downloading (…)okenizer_config.json:   0%|          | 0.00/28.0 [00:00<?, ?B/s]"
      ]
     },
     "metadata": {},
     "output_type": "display_data"
    },
    {
     "data": {
      "application/vnd.jupyter.widget-view+json": {
       "model_id": "911420504bb04465b6ed70e7926617fd",
       "version_major": 2,
       "version_minor": 0
      },
      "text/plain": [
       "Downloading (…)lve/main/config.json:   0%|          | 0.00/570 [00:00<?, ?B/s]"
      ]
     },
     "metadata": {},
     "output_type": "display_data"
    },
    {
     "data": {
      "application/vnd.jupyter.widget-view+json": {
       "model_id": "a4ee035787644573a706f68744bb3f56",
       "version_major": 2,
       "version_minor": 0
      },
      "text/plain": [
       "Downloading model.safetensors:   0%|          | 0.00/440M [00:00<?, ?B/s]"
      ]
     },
     "metadata": {},
     "output_type": "display_data"
    },
    {
     "name": "stderr",
     "output_type": "stream",
     "text": [
      "All PyTorch model weights were used when initializing TFBertForSequenceClassification.\n",
      "\n",
      "Some weights or buffers of the TF 2.0 model TFBertForSequenceClassification were not initialized from the PyTorch model and are newly initialized: ['classifier.weight', 'classifier.bias']\n",
      "You should probably TRAIN this model on a down-stream task to be able to use it for predictions and inference.\n"
     ]
    }
   ],
   "source": [
    "model_name = \"bert-base-uncased\"\n",
    "tokenizer = BertTokenizer.from_pretrained(model_name)\n",
    "model = TFBertForSequenceClassification.from_pretrained(model_name)"
   ]
  },
  {
   "cell_type": "code",
   "execution_count": 5,
   "id": "4d7789ed",
   "metadata": {
    "execution": {
     "iopub.execute_input": "2023-11-12T14:16:20.200077Z",
     "iopub.status.busy": "2023-11-12T14:16:20.199399Z",
     "iopub.status.idle": "2023-11-12T14:16:22.072092Z",
     "shell.execute_reply": "2023-11-12T14:16:22.070981Z"
    },
    "papermill": {
     "duration": 1.886777,
     "end_time": "2023-11-12T14:16:22.074607",
     "exception": false,
     "start_time": "2023-11-12T14:16:20.187830",
     "status": "completed"
    },
    "tags": []
   },
   "outputs": [],
   "source": [
    "# Import necessary libraries\n",
    "import pandas as pd\n",
    "import numpy as np\n",
    "import re\n",
    "import nltk\n",
    "from nltk.corpus import stopwords\n",
    "from sklearn.preprocessing import LabelEncoder\n",
    "from sklearn.model_selection import train_test_split\n",
    "from transformers import BertTokenizer, BertForSequenceClassification, AdamW\n",
    "import torch\n",
    "import torch.nn as nn\n",
    "from torch.utils.data import DataLoader\n",
    "from sklearn.metrics import classification_report, accuracy_score\n",
    "import matplotlib.pyplot as plt"
   ]
  },
  {
   "cell_type": "markdown",
   "id": "d43f3925",
   "metadata": {
    "papermill": {
     "duration": 0.010673,
     "end_time": "2023-11-12T14:16:22.096974",
     "exception": false,
     "start_time": "2023-11-12T14:16:22.086301",
     "status": "completed"
    },
    "tags": []
   },
   "source": [
    "# load the dataset\n"
   ]
  },
  {
   "cell_type": "code",
   "execution_count": 6,
   "id": "010240ff",
   "metadata": {
    "execution": {
     "iopub.execute_input": "2023-11-12T14:16:22.121244Z",
     "iopub.status.busy": "2023-11-12T14:16:22.120511Z",
     "iopub.status.idle": "2023-11-12T14:16:22.195577Z",
     "shell.execute_reply": "2023-11-12T14:16:22.194550Z"
    },
    "papermill": {
     "duration": 0.089712,
     "end_time": "2023-11-12T14:16:22.198170",
     "exception": false,
     "start_time": "2023-11-12T14:16:22.108458",
     "status": "completed"
    },
    "tags": []
   },
   "outputs": [
    {
     "name": "stdout",
     "output_type": "stream",
     "text": [
      "   Task_Type                                           Question  \\\n",
      "0          1  The bar chart below describes some changes abo...   \n",
      "1          2  Rich countries often give money to poorer coun...   \n",
      "2          1  The bar chart below describes some changes abo...   \n",
      "3          2  Rich countries often give money to poorer coun...   \n",
      "4          1  The graph below shows the number of overseas v...   \n",
      "\n",
      "                                               Essay Examiner_Commen  \\\n",
      "0  Between 1995 and 2010, a study was conducted r...             NaN   \n",
      "1  Poverty represents a worldwide crisis. It is t...             NaN   \n",
      "2  The left chart shows the population change hap...             NaN   \n",
      "3  Human beings are facing many challenges nowada...             NaN   \n",
      "4  Information about the thousands of visits from...             NaN   \n",
      "\n",
      "   Task_Response  Coherence_Cohesion  Lexical_Resource  Range_Accuracy  \\\n",
      "0            NaN                 NaN               NaN             NaN   \n",
      "1            NaN                 NaN               NaN             NaN   \n",
      "2            NaN                 NaN               NaN             NaN   \n",
      "3            NaN                 NaN               NaN             NaN   \n",
      "4            NaN                 NaN               NaN             NaN   \n",
      "\n",
      "   Overall  \n",
      "0      5.5  \n",
      "1      6.5  \n",
      "2      5.0  \n",
      "3      5.5  \n",
      "4      7.0  \n"
     ]
    }
   ],
   "source": [
    "# Load your dataset\n",
    "df = pd.read_csv('/kaggle/input/ielts-writing-dataset10/ielts_writing_dataset.csv')\n",
    "# Print the first few rows of the dataset (corrected from 'dataset' to 'df')\n",
    "print(df.head())"
   ]
  },
  {
   "cell_type": "markdown",
   "id": "635e3cea",
   "metadata": {
    "papermill": {
     "duration": 0.011001,
     "end_time": "2023-11-12T14:16:22.220513",
     "exception": false,
     "start_time": "2023-11-12T14:16:22.209512",
     "status": "completed"
    },
    "tags": []
   },
   "source": []
  },
  {
   "cell_type": "markdown",
   "id": "e26cdda0",
   "metadata": {
    "papermill": {
     "duration": 0.011831,
     "end_time": "2023-11-12T14:16:22.244140",
     "exception": false,
     "start_time": "2023-11-12T14:16:22.232309",
     "status": "completed"
    },
    "tags": []
   },
   "source": [
    "# data pre processing"
   ]
  },
  {
   "cell_type": "code",
   "execution_count": 7,
   "id": "dd900cf4",
   "metadata": {
    "execution": {
     "iopub.execute_input": "2023-11-12T14:16:22.269309Z",
     "iopub.status.busy": "2023-11-12T14:16:22.268924Z",
     "iopub.status.idle": "2023-11-12T14:16:22.659132Z",
     "shell.execute_reply": "2023-11-12T14:16:22.658075Z"
    },
    "papermill": {
     "duration": 0.405545,
     "end_time": "2023-11-12T14:16:22.661468",
     "exception": false,
     "start_time": "2023-11-12T14:16:22.255923",
     "status": "completed"
    },
    "tags": []
   },
   "outputs": [
    {
     "name": "stdout",
     "output_type": "stream",
     "text": [
      "[nltk_data] Downloading package stopwords to /usr/share/nltk_data...\n",
      "[nltk_data]   Package stopwords is already up-to-date!\n"
     ]
    }
   ],
   "source": [
    "import pandas as pd\n",
    "import numpy as np\n",
    "import re\n",
    "import nltk\n",
    "from nltk.corpus import stopwords\n",
    "\n",
    "# Load your dataset\n",
    "df = pd.read_csv('/kaggle/input/ielts-writing-dataset10/ielts_writing_dataset.csv')\n",
    "\n",
    "# Lowercase the text\n",
    "df['Essay'] = df['Essay'].str.lower()\n",
    "\n",
    "# Remove punctuation\n",
    "df['Essay'] = df['Essay'].apply(lambda x: re.sub(r'[^\\w\\s]', '', x))\n",
    "\n",
    "# Tokenization and stopword removal\n",
    "nltk.download('stopwords')\n",
    "stop_words = set(stopwords.words('english'))\n",
    "\n",
    "def preprocess_text(text):\n",
    "    words = text.split()\n",
    "    words = [word for word in words if word not in stop_words]\n",
    "    return ' '.join(words)\n",
    "\n",
    "\n",
    "# Apply the preprocessing function to the 'Essay' column in the DataFrame 'df'\n",
    "df['Essay'] = df['Essay'].apply(preprocess_text)\n",
    "\n",
    "# Define the threshold score\n",
    "threshold_score = 6.5\n",
    "\n",
    "# Create a new 'Label' column based on the threshold score in the DataFrame 'df'\n",
    "df['Label'] = np.where(df['Overall'] >= threshold_score, 1, 0)\n",
    "\n",
    "# Save the preprocessed dataset to a CSV file\n",
    "preprocessed_dataset = df[['Essay', 'Label']]\n",
    "preprocessed_dataset.to_csv('preprocessed_ielts_writing_dataset.csv', index=False)\n"
   ]
  },
  {
   "cell_type": "markdown",
   "id": "0ac3d19c",
   "metadata": {
    "papermill": {
     "duration": 0.010952,
     "end_time": "2023-11-12T14:16:22.683052",
     "exception": false,
     "start_time": "2023-11-12T14:16:22.672100",
     "status": "completed"
    },
    "tags": []
   },
   "source": [
    "# load and split the data set"
   ]
  },
  {
   "cell_type": "code",
   "execution_count": 8,
   "id": "385a8e37",
   "metadata": {
    "execution": {
     "iopub.execute_input": "2023-11-12T14:16:22.707426Z",
     "iopub.status.busy": "2023-11-12T14:16:22.707054Z",
     "iopub.status.idle": "2023-11-12T14:16:22.735653Z",
     "shell.execute_reply": "2023-11-12T14:16:22.734656Z"
    },
    "papermill": {
     "duration": 0.044047,
     "end_time": "2023-11-12T14:16:22.738013",
     "exception": false,
     "start_time": "2023-11-12T14:16:22.693966",
     "status": "completed"
    },
    "tags": []
   },
   "outputs": [],
   "source": [
    "from sklearn.model_selection import train_test_split\n",
    "\n",
    "# Load the preprocessed dataset\n",
    "dataset = pd.read_csv('/kaggle/working/preprocessed_ielts_writing_dataset.csv')\n",
    "\n",
    "# Split the dataset into training and testing sets\n",
    "train_data, test_data, train_labels, test_labels = train_test_split(dataset['Essay'], dataset['Label'], test_size=0.2, random_state=42)\n"
   ]
  },
  {
   "cell_type": "markdown",
   "id": "5e9460e6",
   "metadata": {
    "papermill": {
     "duration": 0.0123,
     "end_time": "2023-11-12T14:16:22.762738",
     "exception": false,
     "start_time": "2023-11-12T14:16:22.750438",
     "status": "completed"
    },
    "tags": []
   },
   "source": [
    "# Tokenize Data"
   ]
  },
  {
   "cell_type": "code",
   "execution_count": 9,
   "id": "02b4f198",
   "metadata": {
    "execution": {
     "iopub.execute_input": "2023-11-12T14:16:22.788518Z",
     "iopub.status.busy": "2023-11-12T14:16:22.787677Z",
     "iopub.status.idle": "2023-11-12T14:16:32.854200Z",
     "shell.execute_reply": "2023-11-12T14:16:32.853407Z"
    },
    "papermill": {
     "duration": 10.0819,
     "end_time": "2023-11-12T14:16:32.856490",
     "exception": false,
     "start_time": "2023-11-12T14:16:22.774590",
     "status": "completed"
    },
    "tags": []
   },
   "outputs": [],
   "source": [
    "from transformers import BertTokenizer\n",
    "\n",
    "tokenizer = BertTokenizer.from_pretrained('bert-base-uncased')\n",
    "\n",
    "train_encodings = tokenizer(list(train_data), truncation=True, padding=True)\n",
    "test_encodings = tokenizer(list(test_data), truncation=True, padding=True)\n"
   ]
  },
  {
   "cell_type": "markdown",
   "id": "9ecb7c86",
   "metadata": {
    "papermill": {
     "duration": 0.010605,
     "end_time": "2023-11-12T14:16:32.877531",
     "exception": false,
     "start_time": "2023-11-12T14:16:32.866926",
     "status": "completed"
    },
    "tags": []
   },
   "source": [
    "# create data loader "
   ]
  },
  {
   "cell_type": "code",
   "execution_count": 10,
   "id": "04a38d4f",
   "metadata": {
    "execution": {
     "iopub.execute_input": "2023-11-12T14:16:32.899271Z",
     "iopub.status.busy": "2023-11-12T14:16:32.898954Z",
     "iopub.status.idle": "2023-11-12T14:16:33.253774Z",
     "shell.execute_reply": "2023-11-12T14:16:33.252801Z"
    },
    "papermill": {
     "duration": 0.368359,
     "end_time": "2023-11-12T14:16:33.256162",
     "exception": false,
     "start_time": "2023-11-12T14:16:32.887803",
     "status": "completed"
    },
    "tags": []
   },
   "outputs": [],
   "source": [
    "from torch.utils.data import DataLoader, TensorDataset\n",
    "\n",
    "train_dataset = TensorDataset(torch.tensor(train_encodings['input_ids']),\n",
    "                              torch.tensor(train_encodings['attention_mask']),\n",
    "                              torch.tensor(train_labels.values))\n",
    "test_dataset = TensorDataset(torch.tensor(test_encodings['input_ids']),\n",
    "                             torch.tensor(test_encodings['attention_mask']),\n",
    "                             torch.tensor(test_labels.values))\n",
    "\n",
    "train_loader = DataLoader(train_dataset, batch_size=8, shuffle=True)\n",
    "test_loader = DataLoader(test_dataset, batch_size=8, shuffle=False)\n"
   ]
  },
  {
   "cell_type": "markdown",
   "id": "8a1d9f76",
   "metadata": {
    "papermill": {
     "duration": 0.010262,
     "end_time": "2023-11-12T14:16:33.276859",
     "exception": false,
     "start_time": "2023-11-12T14:16:33.266597",
     "status": "completed"
    },
    "tags": []
   },
   "source": [
    "# Fine-Tune BERT Model for Classification"
   ]
  },
  {
   "cell_type": "code",
   "execution_count": 11,
   "id": "92f864c7",
   "metadata": {
    "execution": {
     "iopub.execute_input": "2023-11-12T14:16:33.298859Z",
     "iopub.status.busy": "2023-11-12T14:16:33.298490Z",
     "iopub.status.idle": "2023-11-12T14:16:34.601951Z",
     "shell.execute_reply": "2023-11-12T14:16:34.600971Z"
    },
    "papermill": {
     "duration": 1.317246,
     "end_time": "2023-11-12T14:16:34.604214",
     "exception": false,
     "start_time": "2023-11-12T14:16:33.286968",
     "status": "completed"
    },
    "tags": []
   },
   "outputs": [
    {
     "name": "stderr",
     "output_type": "stream",
     "text": [
      "Some weights of BertForSequenceClassification were not initialized from the model checkpoint at bert-base-uncased and are newly initialized: ['classifier.weight', 'classifier.bias']\n",
      "You should probably TRAIN this model on a down-stream task to be able to use it for predictions and inference.\n",
      "/opt/conda/lib/python3.10/site-packages/transformers/optimization.py:411: FutureWarning: This implementation of AdamW is deprecated and will be removed in a future version. Use the PyTorch implementation torch.optim.AdamW instead, or set `no_deprecation_warning=True` to disable this warning\n",
      "  warnings.warn(\n"
     ]
    }
   ],
   "source": [
    "from transformers import BertForSequenceClassification, AdamW\n",
    "import torch\n",
    "\n",
    "model = BertForSequenceClassification.from_pretrained('bert-base-uncased', num_labels=2)\n",
    "optimizer = AdamW(model.parameters(), lr=1e-5)\n"
   ]
  },
  {
   "cell_type": "markdown",
   "id": "ede1e754",
   "metadata": {
    "papermill": {
     "duration": 0.010961,
     "end_time": "2023-11-12T14:16:34.626068",
     "exception": false,
     "start_time": "2023-11-12T14:16:34.615107",
     "status": "completed"
    },
    "tags": []
   },
   "source": [
    "# train the model (training loop)"
   ]
  },
  {
   "cell_type": "code",
   "execution_count": 12,
   "id": "1ba997f6",
   "metadata": {
    "execution": {
     "iopub.execute_input": "2023-11-12T14:16:34.649338Z",
     "iopub.status.busy": "2023-11-12T14:16:34.648955Z",
     "iopub.status.idle": "2023-11-12T20:02:02.618565Z",
     "shell.execute_reply": "2023-11-12T20:02:02.617282Z"
    },
    "papermill": {
     "duration": 20727.997033,
     "end_time": "2023-11-12T20:02:02.633792",
     "exception": false,
     "start_time": "2023-11-12T14:16:34.636759",
     "status": "completed"
    },
    "tags": []
   },
   "outputs": [
    {
     "name": "stdout",
     "output_type": "stream",
     "text": [
      "Epoch 1, Training Loss: 0.6598, Training Accuracy: 0.6002, Validation Loss: 0.6824, Validation Accuracy: 0.5296\n",
      "Epoch 2, Training Loss: 0.6357, Training Accuracy: 0.6263, Validation Loss: 0.6205, Validation Accuracy: 0.6341\n",
      "Epoch 3, Training Loss: 0.5552, Training Accuracy: 0.7221, Validation Loss: 0.6115, Validation Accuracy: 0.6655\n",
      "Epoch 4, Training Loss: 0.4375, Training Accuracy: 0.8066, Validation Loss: 0.6429, Validation Accuracy: 0.6725\n",
      "Epoch 5, Training Loss: 0.2916, Training Accuracy: 0.8868, Validation Loss: 0.7094, Validation Accuracy: 0.6969\n",
      "Epoch 6, Training Loss: 0.1933, Training Accuracy: 0.9312, Validation Loss: 1.1218, Validation Accuracy: 0.6760\n",
      "Epoch 7, Training Loss: 0.1008, Training Accuracy: 0.9660, Validation Loss: 0.9244, Validation Accuracy: 0.7143\n",
      "Epoch 8, Training Loss: 0.0565, Training Accuracy: 0.9826, Validation Loss: 1.0261, Validation Accuracy: 0.7352\n",
      "Epoch 9, Training Loss: 0.0613, Training Accuracy: 0.9791, Validation Loss: 1.0986, Validation Accuracy: 0.7108\n",
      "Epoch 10, Training Loss: 0.0220, Training Accuracy: 0.9948, Validation Loss: 1.2157, Validation Accuracy: 0.6969\n",
      "Epoch 11, Training Loss: 0.0096, Training Accuracy: 0.9983, Validation Loss: 1.3210, Validation Accuracy: 0.7108\n",
      "Epoch 12, Training Loss: 0.0061, Training Accuracy: 0.9991, Validation Loss: 1.5609, Validation Accuracy: 0.7003\n",
      "Epoch 13, Training Loss: 0.0207, Training Accuracy: 0.9930, Validation Loss: 1.3683, Validation Accuracy: 0.7108\n",
      "Epoch 14, Training Loss: 0.0808, Training Accuracy: 0.9713, Validation Loss: 1.1359, Validation Accuracy: 0.7143\n",
      "Epoch 15, Training Loss: 0.0084, Training Accuracy: 0.9983, Validation Loss: 1.3519, Validation Accuracy: 0.7213\n",
      "Model Accuracy on Test Data: 0.7213\n"
     ]
    }
   ],
   "source": [
    "# Lists to store metrics\n",
    "train_losses = []\n",
    "train_accuracies = []\n",
    "val_losses = []\n",
    "val_accuracies = []\n",
    "\n",
    "# Training loop\n",
    "num_epochs = 15\n",
    "\n",
    "for epoch in range(num_epochs):\n",
    "    total_loss = 0\n",
    "    true_labels = []\n",
    "    predicted_labels = []\n",
    "\n",
    "    # Training loop\n",
    "    model.train()\n",
    "    for batch in train_loader:\n",
    "        optimizer.zero_grad()\n",
    "        input_ids, attention_mask, labels = batch\n",
    "        outputs = model(input_ids, attention_mask=attention_mask, labels=labels)\n",
    "        loss = outputs.loss\n",
    "        total_loss += loss.item()\n",
    "        loss.backward()\n",
    "        optimizer.step()\n",
    "\n",
    "        # Calculate training accuracy\n",
    "        logits = outputs.logits\n",
    "        predicted = torch.argmax(logits, dim=1)\n",
    "        true_labels.extend(labels.tolist())\n",
    "        predicted_labels.extend(predicted.tolist())\n",
    "\n",
    "    train_loss = total_loss / len(train_loader)\n",
    "    train_accuracy = accuracy_score(true_labels, predicted_labels)\n",
    "    train_losses.append(train_loss)\n",
    "    train_accuracies.append(train_accuracy)\n",
    "\n",
    "    # Validation loop\n",
    "    total_loss = 0\n",
    "    true_labels = []\n",
    "    predicted_labels = []\n",
    "\n",
    "    model.eval()\n",
    "    with torch.no_grad():\n",
    "        for batch in test_loader:\n",
    "            input_ids, attention_mask, labels = batch\n",
    "            outputs = model(input_ids, attention_mask=attention_mask, labels=labels)\n",
    "            loss = outputs.loss\n",
    "            total_loss += loss.item()\n",
    "\n",
    "            # Calculate validation accuracy\n",
    "            logits = outputs.logits\n",
    "            predicted = torch.argmax(logits, dim=1)\n",
    "            true_labels.extend(labels.tolist())\n",
    "            predicted_labels.extend(predicted.tolist())\n",
    "\n",
    "    val_loss = total_loss / len(test_loader)\n",
    "    val_accuracy = accuracy_score(true_labels, predicted_labels)\n",
    "    val_losses.append(val_loss)\n",
    "    val_accuracies.append(val_accuracy)\n",
    "\n",
    "    # Print the training and validation metrics\n",
    "    print(f\"Epoch {epoch + 1}, Training Loss: {train_loss:.4f}, Training Accuracy: {train_accuracy:.4f}, Validation Loss: {val_loss:.4f}, Validation Accuracy: {val_accuracy:.4f}\")\n",
    "\n",
    "# Calculate accuracy on the test set\n",
    "model.eval()\n",
    "true_labels = []\n",
    "predicted_labels = []\n",
    "\n",
    "with torch.no_grad():\n",
    "\n",
    "    for batch in test_loader:\n",
    "        input_ids, attention_mask, labels = batch\n",
    "        outputs = model(input_ids, attention_mask=attention_mask)\n",
    "        logits = outputs.logits\n",
    "        predicted = torch.argmax(logits, dim=1)\n",
    "        true_labels.extend(labels.tolist())\n",
    "        predicted_labels.extend(predicted.tolist())\n",
    "\n",
    "test_accuracy = accuracy_score(true_labels, predicted_labels)\n",
    "\n",
    "# Print the model's accuracy on the test set\n",
    "print(f\"Model Accuracy on Test Data: {test_accuracy:.4f}\")\n"
   ]
  },
  {
   "cell_type": "markdown",
   "id": "dea63bc6",
   "metadata": {
    "papermill": {
     "duration": 0.012184,
     "end_time": "2023-11-12T20:02:02.658265",
     "exception": false,
     "start_time": "2023-11-12T20:02:02.646081",
     "status": "completed"
    },
    "tags": []
   },
   "source": [
    "# training and validation loss graph"
   ]
  },
  {
   "cell_type": "code",
   "execution_count": 13,
   "id": "78685352",
   "metadata": {
    "execution": {
     "iopub.execute_input": "2023-11-12T20:02:02.684457Z",
     "iopub.status.busy": "2023-11-12T20:02:02.684155Z",
     "iopub.status.idle": "2023-11-12T20:02:03.077210Z",
     "shell.execute_reply": "2023-11-12T20:02:03.076324Z"
    },
    "papermill": {
     "duration": 0.408671,
     "end_time": "2023-11-12T20:02:03.079207",
     "exception": false,
     "start_time": "2023-11-12T20:02:02.670536",
     "status": "completed"
    },
    "tags": []
   },
   "outputs": [
    {
     "data": {
      "image/png": "[encoded data removed]",
      "text/plain": [
       "<Figure size 1200x600 with 1 Axes>"
      ]
     },
     "metadata": {},
     "output_type": "display_data"
    }
   ],
   "source": [
    "import matplotlib.pyplot as plt\n",
    "\n",
    "# Example lists of training and validation loss values at different epochs\n",
    "train_loss = [0.59, 0.46, 0.34, 0.24, 0.12, 0.07, 0.07, 0.05, 0.05,0.04,0.07,0.05,0.02,0.02,0.02]  # Replace with your actual loss values\n",
    "val_loss = [0.62, 0.61, 0.72, 0.66, 0.93, 1.01,0.94,1.11,1.24,1.17,1.23,1.13,1.22,1.36,1.32]  # Replace with your actual loss values\n",
    "\n",
    "# Create a list of epochs (x-axis values)\n",
    "epochs = range(1, len(train_loss) + 1)\n",
    "\n",
    "# Plot Training and Validation Loss\n",
    "plt.figure(figsize=(12, 6))\n",
    "plt.plot(epochs, train_loss, 'b', label='Training Loss')\n",
    "plt.plot(epochs, val_loss, 'g', label='Validation Loss')\n",
    "plt.title('Training and Validation Loss')\n",
    "plt.xlabel('Epochs')\n",
    "plt.ylabel('Loss')\n",
    "plt.legend()\n",
    "plt.show()"
   ]
  },
  {
   "cell_type": "markdown",
   "id": "8f6f19aa",
   "metadata": {
    "papermill": {
     "duration": 0.012135,
     "end_time": "2023-11-12T20:02:03.103865",
     "exception": false,
     "start_time": "2023-11-12T20:02:03.091730",
     "status": "completed"
    },
    "tags": []
   },
   "source": [
    "# training and validation accuracy graph"
   ]
  },
  {
   "cell_type": "code",
   "execution_count": 14,
   "id": "be8e16d9",
   "metadata": {
    "execution": {
     "iopub.execute_input": "2023-11-12T20:02:03.130337Z",
     "iopub.status.busy": "2023-11-12T20:02:03.130033Z",
     "iopub.status.idle": "2023-11-12T20:02:03.483200Z",
     "shell.execute_reply": "2023-11-12T20:02:03.482258Z"
    },
    "papermill": {
     "duration": 0.36872,
     "end_time": "2023-11-12T20:02:03.485814",
     "exception": false,
     "start_time": "2023-11-12T20:02:03.117094",
     "status": "completed"
    },
    "tags": []
   },
   "outputs": [
    {
     "data": {
      "image/png": "[encoded data removed]",
      "text/plain": [
       "<Figure size 1200x600 with 1 Axes>"
      ]
     },
     "metadata": {},
     "output_type": "display_data"
    }
   ],
   "source": [
    "import matplotlib.pyplot as plt\n",
    "\n",
    "# Example lists of training and validation accuracy values at different epochs\n",
    "train_accuracy = [0.68, 0.80, 0.87, 0.91, 0.96,0.97,0.98,0.98,0.98,0.98,0.99,0.97,0.98,0.99,0.99]  # Replace with your actual accuracy values\n",
    "val_accuracy = [0.64, 0.71, 0.69, 0.71, 0.67,0.70,0.71,0.74,0.72,0.73,0.68,0.71,0.71,0.72,0.72]  # Replace with your actual accuracy values\n",
    "\n",
    "# Create a list of epochs (x-axis values)\n",
    "epochs = range(1, len(train_accuracy) + 1)\n",
    "\n",
    "# Plot Training and Validation Accuracy\n",
    "plt.figure(figsize=(12, 6))\n",
    "plt.plot(epochs, train_accuracy, 'b', label='Training Accuracy')\n",
    "plt.plot(epochs, val_accuracy, 'g', label='Validation Accuracy')\n",
    "plt.title('Training and Validation Accuracy')\n",
    "plt.xlabel('Epochs')\n",
    "plt.ylabel('Accuracy')\n",
    "plt.legend()\n",
    "plt.show()\n"
   ]
  },
  {
   "cell_type": "markdown",
   "id": "b78d38f7",
   "metadata": {
    "papermill": {
     "duration": 0.013886,
     "end_time": "2023-11-12T20:02:03.515181",
     "exception": false,
     "start_time": "2023-11-12T20:02:03.501295",
     "status": "completed"
    },
    "tags": []
   },
   "source": []
  },
  {
   "cell_type": "markdown",
   "id": "20e47eed",
   "metadata": {
    "papermill": {
     "duration": 0.013728,
     "end_time": "2023-11-12T20:02:03.542548",
     "exception": false,
     "start_time": "2023-11-12T20:02:03.528820",
     "status": "completed"
    },
    "tags": []
   },
   "source": []
  },
  {
   "cell_type": "markdown",
   "id": "849ab995",
   "metadata": {
    "papermill": {
     "duration": 0.013066,
     "end_time": "2023-11-12T20:02:03.568570",
     "exception": false,
     "start_time": "2023-11-12T20:02:03.555504",
     "status": "completed"
    },
    "tags": []
   },
   "source": [
    "# save the trained model and load the model"
   ]
  },
  {
   "cell_type": "code",
   "execution_count": 15,
   "id": "a8612ad6",
   "metadata": {
    "execution": {
     "iopub.execute_input": "2023-11-12T20:02:03.595901Z",
     "iopub.status.busy": "2023-11-12T20:02:03.595517Z",
     "iopub.status.idle": "2023-11-12T20:02:05.179958Z",
     "shell.execute_reply": "2023-11-12T20:02:05.179184Z"
    },
    "papermill": {
     "duration": 1.600765,
     "end_time": "2023-11-12T20:02:05.182215",
     "exception": false,
     "start_time": "2023-11-12T20:02:03.581450",
     "status": "completed"
    },
    "tags": []
   },
   "outputs": [],
   "source": [
    "# Save the trained model\n",
    "model.save_pretrained('language_matching_model')\n",
    "\n",
    "\n",
    "from transformers import BertTokenizer, BertForSequenceClassification\n",
    "\n",
    "# Load the saved model\n",
    "model = BertForSequenceClassification.from_pretrained('language_matching_model')\n",
    "tokenizer = BertTokenizer.from_pretrained('bert-base-uncased')  # You need the tokenizer too\n"
   ]
  },
  {
   "cell_type": "markdown",
   "id": "661a8082",
   "metadata": {
    "papermill": {
     "duration": 0.012773,
     "end_time": "2023-11-12T20:02:05.208087",
     "exception": false,
     "start_time": "2023-11-12T20:02:05.195314",
     "status": "completed"
    },
    "tags": []
   },
   "source": [
    "# Testing"
   ]
  },
  {
   "cell_type": "code",
   "execution_count": 16,
   "id": "9a6da453",
   "metadata": {
    "execution": {
     "iopub.execute_input": "2023-11-12T20:02:05.235356Z",
     "iopub.status.busy": "2023-11-12T20:02:05.234629Z",
     "iopub.status.idle": "2023-11-12T20:02:06.367496Z",
     "shell.execute_reply": "2023-11-12T20:02:06.366299Z"
    },
    "papermill": {
     "duration": 1.148884,
     "end_time": "2023-11-12T20:02:06.369681",
     "exception": false,
     "start_time": "2023-11-12T20:02:05.220797",
     "status": "completed"
    },
    "tags": []
   },
   "outputs": [
    {
     "name": "stdout",
     "output_type": "stream",
     "text": [
      "Result: Match\n",
      "Matching Rate: 100.00%\n"
     ]
    }
   ],
   "source": [
    "import pandas as pd\n",
    "from transformers import BertTokenizer, BertForSequenceClassification\n",
    "import torch\n",
    "import re\n",
    "from sklearn.feature_extraction.text import CountVectorizer\n",
    "from sklearn.metrics.pairwise import cosine_similarity\n",
    "\n",
    "# Load the saved model\n",
    "loaded_model = BertForSequenceClassification.from_pretrained('language_matching_model')\n",
    "\n",
    "# Initialize the tokenizer\n",
    "tokenizer = BertTokenizer.from_pretrained('bert-base-uncased')\n",
    "\n",
    "# Load your dataset\n",
    "df = pd.read_csv('/kaggle/input/ielts-writing-dataset10/ielts_writing_dataset.csv')\n",
    "\n",
    "# Define the user's answer\n",
    "user_answer = \"\"\"Between 1995 and 2010, a study was conducted representing the percentages of people born in Australia, versus people born outside Australia, living in urban, rural, and town. First, in 1995, cities represented the major percentage of habitat by roughly 50 percent, followed by rural areas and towns came in last, among people born in Australia. On the other hand, people born outside Australia, cities showed the most percentages of 6o percent, followed by rural areas and towns. In 2010, among people born in Australia, cities had an increase more than 20 percent increase in the total representation and a major decrease in towns and rural areas. Conversely, people born outside Australia, cities had the most percentage among both studies, followed by rural areas and towns.\"\"\"\n",
    "# Define the question ID you want to evaluate\n",
    "question_id = 1  # Change this to the specific question ID you want to evaluate\n",
    "\n",
    "# Get the reference answer (essay) from the dataset for the specific question\n",
    "reference_answer = df.loc[df['Task_Type'] == question_id, 'Essay'].iloc[0]\n",
    "\n",
    "# Preprocess and tokenize the user's answer and reference answer\n",
    "user_answer = user_answer.lower()  # Lowercase the answer\n",
    "user_answer = re.sub(r'[^\\w\\s]', '', user_answer)  # Remove punctuation\n",
    "reference_answer = reference_answer.lower()  # Lowercase the reference answer\n",
    "reference_answer = re.sub(r'[^\\w\\s]', '', reference_answer)  # Remove punctuation\n",
    "\n",
    "# Calculate the cosine similarity between the user's answer and reference answer\n",
    "vectorizer = CountVectorizer().fit_transform([user_answer, reference_answer])\n",
    "vectors = vectorizer.toarray()\n",
    "cosine_sim = cosine_similarity(vectors)\n",
    "\n",
    "# Define a threshold for matching rate percentage\n",
    "threshold = 65  # You can adjust this threshold as needed\n",
    "\n",
    "# Get the matching rate as a percentage\n",
    "matching_rate = cosine_sim[0][1] * 100\n",
    "\n",
    "# Determine if the user's answer matches the reference answer and print the result\n",
    "if matching_rate >= threshold:\n",
    "    result = \"Match\"\n",
    "else:\n",
    "    result = \"Not Matched\"\n",
    "\n",
    "print(f\"Result: {result}\")\n",
    "print(f\"Matching Rate: {matching_rate:.2f}%\")\n"
   ]
  },
  {
   "cell_type": "code",
   "execution_count": 17,
   "id": "78ad27d4",
   "metadata": {
    "execution": {
     "iopub.execute_input": "2023-11-12T20:02:06.400549Z",
     "iopub.status.busy": "2023-11-12T20:02:06.400203Z",
     "iopub.status.idle": "2023-11-12T20:02:07.449581Z",
     "shell.execute_reply": "2023-11-12T20:02:07.448431Z"
    },
    "papermill": {
     "duration": 1.067524,
     "end_time": "2023-11-12T20:02:07.451943",
     "exception": false,
     "start_time": "2023-11-12T20:02:06.384419",
     "status": "completed"
    },
    "tags": []
   },
   "outputs": [
    {
     "name": "stdout",
     "output_type": "stream",
     "text": [
      "Result: Not Matched\n",
      "Matching Rate: 25.89%\n"
     ]
    }
   ],
   "source": [
    "import pandas as pd\n",
    "from transformers import BertTokenizer, BertForSequenceClassification\n",
    "import torch\n",
    "import re\n",
    "from sklearn.feature_extraction.text import CountVectorizer\n",
    "from sklearn.metrics.pairwise import cosine_similarity\n",
    "\n",
    "# Load the saved model\n",
    "loaded_model = BertForSequenceClassification.from_pretrained('language_matching_model')\n",
    "\n",
    "# Initialize the tokenizer\n",
    "tokenizer = BertTokenizer.from_pretrained('bert-base-uncased')\n",
    "\n",
    "# Load your dataset\n",
    "df = pd.read_csv('/kaggle/input/ielts-writing-dataset10/ielts_writing_dataset.csv')\n",
    "\n",
    "# Define the user's answer\n",
    "user_answer =  \"\"\"The methodology for this pioneering assessment approach commences with the administration of\n",
    "a comprehensive questionnaire, meticulously designed to gauge proficiency in English grammar,\n",
    "vocabulary, and comprehension. Employing natural language processing (NLP), the system\n",
    "conducts an in-depth analysis of user responses, establishing a dependable baseline evaluation of\n",
    "their linguistic competence. Successful completion of this initial phase grants access to the\n",
    "subsequent spoken test segment.\"\"\"\n",
    "# Define the question ID you want to evaluate\n",
    "question_id = 1  # Change this to the specific question ID you want to evaluate\n",
    "\n",
    "# Get the reference answer (essay) from the dataset for the specific question\n",
    "reference_answer = df.loc[df['Task_Type'] == question_id, 'Essay'].iloc[0]\n",
    "\n",
    "# Preprocess and tokenize the user's answer and reference answer\n",
    "user_answer = user_answer.lower()  # Lowercase the answer\n",
    "user_answer = re.sub(r'[^\\w\\s]', '', user_answer)  # Remove punctuation\n",
    "reference_answer = reference_answer.lower()  # Lowercase the reference answer\n",
    "reference_answer = re.sub(r'[^\\w\\s]', '', reference_answer)  # Remove punctuation\n",
    "\n",
    "# Calculate the cosine similarity between the user's answer and reference answer\n",
    "vectorizer = CountVectorizer().fit_transform([user_answer, reference_answer])\n",
    "vectors = vectorizer.toarray()\n",
    "cosine_sim = cosine_similarity(vectors)\n",
    "\n",
    "# Define a threshold for matching rate percentage\n",
    "threshold = 65  # You can adjust this threshold as needed\n",
    "\n",
    "# Get the matching rate as a percentage\n",
    "matching_rate = cosine_sim[0][1] * 100\n",
    "\n",
    "# Determine if the user's answer matches the reference answer and print the result\n",
    "if matching_rate >= threshold:\n",
    "    result = \"Match\"\n",
    "else:\n",
    "    result = \"Not Matched\"\n",
    "\n",
    "print(f\"Result: {result}\")\n",
    "print(f\"Matching Rate: {matching_rate:.2f}%\")\n"
   ]
  },
  {
   "cell_type": "code",
   "execution_count": 18,
   "id": "ca737585",
   "metadata": {
    "execution": {
     "iopub.execute_input": "2023-11-12T20:02:07.481265Z",
     "iopub.status.busy": "2023-11-12T20:02:07.480965Z",
     "iopub.status.idle": "2023-11-12T20:02:07.485957Z",
     "shell.execute_reply": "2023-11-12T20:02:07.485108Z"
    },
    "papermill": {
     "duration": 0.021984,
     "end_time": "2023-11-12T20:02:07.488140",
     "exception": false,
     "start_time": "2023-11-12T20:02:07.466156",
     "status": "completed"
    },
    "tags": []
   },
   "outputs": [
    {
     "name": "stdout",
     "output_type": "stream",
     "text": [
      "Columns in the dataset: Index(['Task_Type', 'Question', 'Essay', 'Examiner_Commen', 'Task_Response',\n",
      "       'Coherence_Cohesion', 'Lexical_Resource', 'Range_Accuracy', 'Overall'],\n",
      "      dtype='object')\n"
     ]
    }
   ],
   "source": [
    "# List the columns in your dataset\n",
    "columns = df.columns\n",
    "print(\"Columns in the dataset:\", columns)\n"
   ]
  }
 ],
 "metadata": {
  "kernelspec": {
   "display_name": "Python 3",
   "language": "python",
   "name": "python3"
  },
  "language_info": {
   "codemirror_mode": {
    "name": "ipython",
    "version": 3
   },
   "file_extension": ".py",
   "mimetype": "text/x-python",
   "name": "python",
   "nbconvert_exporter": "python",
   "pygments_lexer": "ipython3",
   "version": "3.10.12"
  },
  "papermill": {
   "default_parameters": {},
   "duration": 20799.827804,
   "end_time": "2023-11-12T20:02:11.022093",
   "environment_variables": {},
   "exception": null,
   "input_path": "__notebook__.ipynb",
   "output_path": "__notebook__.ipynb",
   "parameters": {},
   "start_time": "2023-11-12T14:15:31.194289",
   "version": "2.4.0"
  },
  "widgets": {
   "application/vnd.jupyter.widget-state+json": {
    "state": {
     "0062c09bec2a4190adc79d9cec795038": {
      "model_module": "@jupyter-widgets/base",
      "model_module_version": "1.2.0",
      "model_name": "LayoutModel",
      "state": {
       "_model_module": "@jupyter-widgets/base",
       "_model_module_version": "1.2.0",
       "_model_name": "LayoutModel",
       "_view_count": null,
       "_view_module": "@jupyter-widgets/base",
       "_view_module_version": "1.2.0",
       "_view_name": "LayoutView",
       "align_content": null,
       "align_items": null,
       "align_self": null,
       "border": null,
       "bottom": null,
       "display": null,
       "flex": null,
       "flex_flow": null,
       "grid_area": null,
       "grid_auto_columns": null,
       "grid_auto_flow": null,
       "grid_auto_rows": null,
       "grid_column": null,
       "grid_gap": null,
       "grid_row": null,
       "grid_template_areas": null,
       "grid_template_columns": null,
       "grid_template_rows": null,
       "height": null,
       "justify_content": null,
       "justify_items": null,
       "left": null,
       "margin": null,
       "max_height": null,
       "max_width": null,
       "min_height": null,
       "min_width": null,
       "object_fit": null,
       "object_position": null,
       "order": null,
       "overflow": null,
       "overflow_x": null,
       "overflow_y": null,
       "padding": null,
       "right": null,
       "top": null,
       "visibility": null,
       "width": null
      }
     },
     "071f1b93a49c4c2b8d9c4e12b1855fb6": {
      "model_module": "@jupyter-widgets/controls",
      "model_module_version": "1.5.0",
      "model_name": "ProgressStyleModel",
      "state": {
       "_model_module": "@jupyter-widgets/controls",
       "_model_module_version": "1.5.0",
       "_model_name": "ProgressStyleModel",
       "_view_count": null,
       "_view_module": "@jupyter-widgets/base",
       "_view_module_version": "1.2.0",
       "_view_name": "StyleView",
       "bar_color": null,
       "description_width": ""
      }
     },
     "1410afa8fe4049a186e5c8a3417de0ce": {
      "model_module": "@jupyter-widgets/controls",
      "model_module_version": "1.5.0",
      "model_name": "FloatProgressModel",
      "state": {
       "_dom_classes": [],
       "_model_module": "@jupyter-widgets/controls",
       "_model_module_version": "1.5.0",
       "_model_name": "FloatProgressModel",
       "_view_count": null,
       "_view_module": "@jupyter-widgets/controls",
       "_view_module_version": "1.5.0",
       "_view_name": "ProgressView",
       "bar_style": "success",
       "description": "",
       "description_tooltip": null,
       "layout": "IPY_MODEL_42d7ceb7c68f4d54b2fcaf8d455446e6",
       "max": 231508.0,
       "min": 0.0,
       "orientation": "horizontal",
       "style": "IPY_MODEL_16f9ebdde9c140bd92b2de05b7ae5505",
       "value": 231508.0
      }
     },
     "16f9ebdde9c140bd92b2de05b7ae5505": {
      "model_module": "@jupyter-widgets/controls",
      "model_module_version": "1.5.0",
      "model_name": "ProgressStyleModel",
      "state": {
       "_model_module": "@jupyter-widgets/controls",
       "_model_module_version": "1.5.0",
       "_model_name": "ProgressStyleModel",
       "_view_count": null,
       "_view_module": "@jupyter-widgets/base",
       "_view_module_version": "1.2.0",
       "_view_name": "StyleView",
       "bar_color": null,
       "description_width": ""
      }
     },
     "177f510521324415a183d5e3596adcb4": {
      "model_module": "@jupyter-widgets/controls",
      "model_module_version": "1.5.0",
      "model_name": "DescriptionStyleModel",
      "state": {
       "_model_module": "@jupyter-widgets/controls",
       "_model_module_version": "1.5.0",
       "_model_name": "DescriptionStyleModel",
       "_view_count": null,
       "_view_module": "@jupyter-widgets/base",
       "_view_module_version": "1.2.0",
       "_view_name": "StyleView",
       "description_width": ""
      }
     },
     "18d5591413824e01b9be50a59fdac940": {
      "model_module": "@jupyter-widgets/controls",
      "model_module_version": "1.5.0",
      "model_name": "HTMLModel",
      "state": {
       "_dom_classes": [],
       "_model_module": "@jupyter-widgets/controls",
       "_model_module_version": "1.5.0",
       "_model_name": "HTMLModel",
       "_view_count": null,
       "_view_module": "@jupyter-widgets/controls",
       "_view_module_version": "1.5.0",
       "_view_name": "HTMLView",
       "description": "",
       "description_tooltip": null,
       "layout": "IPY_MODEL_18e0aa312bdb4719a3f6f2772ece229e",
       "placeholder": "​",
       "style": "IPY_MODEL_4d00dacf975c46dabf7e118b0c1524e2",
       "value": " 232k/232k [00:00&lt;00:00, 5.17MB/s]"
      }
     },
     "18e0aa312bdb4719a3f6f2772ece229e": {
      "model_module": "@jupyter-widgets/base",
      "model_module_version": "1.2.0",
      "model_name": "LayoutModel",
      "state": {
       "_model_module": "@jupyter-widgets/base",
       "_model_module_version": "1.2.0",
       "_model_name": "LayoutModel",
       "_view_count": null,
       "_view_module": "@jupyter-widgets/base",
       "_view_module_version": "1.2.0",
       "_view_name": "LayoutView",
       "align_content": null,
       "align_items": null,
       "align_self": null,
       "border": null,
       "bottom": null,
       "display": null,
       "flex": null,
       "flex_flow": null,
       "grid_area": null,
       "grid_auto_columns": null,
       "grid_auto_flow": null,
       "grid_auto_rows": null,
       "grid_column": null,
       "grid_gap": null,
       "grid_row": null,
       "grid_template_areas": null,
       "grid_template_columns": null,
       "grid_template_rows": null,
       "height": null,
       "justify_content": null,
       "justify_items": null,
       "left": null,
       "margin": null,
       "max_height": null,
       "max_width": null,
       "min_height": null,
       "min_width": null,
       "object_fit": null,
       "object_position": null,
       "order": null,
       "overflow": null,
       "overflow_x": null,
       "overflow_y": null,
       "padding": null,
       "right": null,
       "top": null,
       "visibility": null,
       "width": null
      }
     },
     "1d51c14f448341809471e3ebf37f3b7e": {
      "model_module": "@jupyter-widgets/base",
      "model_module_version": "1.2.0",
      "model_name": "LayoutModel",
      "state": {
       "_model_module": "@jupyter-widgets/base",
       "_model_module_version": "1.2.0",
       "_model_name": "LayoutModel",
       "_view_count": null,
       "_view_module": "@jupyter-widgets/base",
       "_view_module_version": "1.2.0",
       "_view_name": "LayoutView",
       "align_content": null,
       "align_items": null,
       "align_self": null,
       "border": null,
       "bottom": null,
       "display": null,
       "flex": null,
       "flex_flow": null,
       "grid_area": null,
       "grid_auto_columns": null,
       "grid_auto_flow": null,
       "grid_auto_rows": null,
       "grid_column": null,
       "grid_gap": null,
       "grid_row": null,
       "grid_template_areas": null,
       "grid_template_columns": null,
       "grid_template_rows": null,
       "height": null,
       "justify_content": null,
       "justify_items": null,
       "left": null,
       "margin": null,
       "max_height": null,
       "max_width": null,
       "min_height": null,
       "min_width": null,
       "object_fit": null,
       "object_position": null,
       "order": null,
       "overflow": null,
       "overflow_x": null,
       "overflow_y": null,
       "padding": null,
       "right": null,
       "top": null,
       "visibility": null,
       "width": null
      }
     },
     "22f0ec21876d48f4985f1e304c35fa1c": {
      "model_module": "@jupyter-widgets/base",
      "model_module_version": "1.2.0",
      "model_name": "LayoutModel",
      "state": {
       "_model_module": "@jupyter-widgets/base",
       "_model_module_version": "1.2.0",
       "_model_name": "LayoutModel",
       "_view_count": null,
       "_view_module": "@jupyter-widgets/base",
       "_view_module_version": "1.2.0",
       "_view_name": "LayoutView",
       "align_content": null,
       "align_items": null,
       "align_self": null,
       "border": null,
       "bottom": null,
       "display": null,
       "flex": null,
       "flex_flow": null,
       "grid_area": null,
       "grid_auto_columns": null,
       "grid_auto_flow": null,
       "grid_auto_rows": null,
       "grid_column": null,
       "grid_gap": null,
       "grid_row": null,
       "grid_template_areas": null,
       "grid_template_columns": null,
       "grid_template_rows": null,
       "height": null,
       "justify_content": null,
       "justify_items": null,
       "left": null,
       "margin": null,
       "max_height": null,
       "max_width": null,
       "min_height": null,
       "min_width": null,
       "object_fit": null,
       "object_position": null,
       "order": null,
       "overflow": null,
       "overflow_x": null,
       "overflow_y": null,
       "padding": null,
       "right": null,
       "top": null,
       "visibility": null,
       "width": null
      }
     },
     "42d7ceb7c68f4d54b2fcaf8d455446e6": {
      "model_module": "@jupyter-widgets/base",
      "model_module_version": "1.2.0",
      "model_name": "LayoutModel",
      "state": {
       "_model_module": "@jupyter-widgets/base",
       "_model_module_version": "1.2.0",
       "_model_name": "LayoutModel",
       "_view_count": null,
       "_view_module": "@jupyter-widgets/base",
       "_view_module_version": "1.2.0",
       "_view_name": "LayoutView",
       "align_content": null,
       "align_items": null,
       "align_self": null,
       "border": null,
       "bottom": null,
       "display": null,
       "flex": null,
       "flex_flow": null,
       "grid_area": null,
       "grid_auto_columns": null,
       "grid_auto_flow": null,
       "grid_auto_rows": null,
       "grid_column": null,
       "grid_gap": null,
       "grid_row": null,
       "grid_template_areas": null,
       "grid_template_columns": null,
       "grid_template_rows": null,
       "height": null,
       "justify_content": null,
       "justify_items": null,
       "left": null,
       "margin": null,
       "max_height": null,
       "max_width": null,
       "min_height": null,
       "min_width": null,
       "object_fit": null,
       "object_position": null,
       "order": null,
       "overflow": null,
       "overflow_x": null,
       "overflow_y": null,
       "padding": null,
       "right": null,
       "top": null,
       "visibility": null,
       "width": null
      }
     },
     "43bae570802b40418926a86e10f9786d": {
      "model_module": "@jupyter-widgets/controls",
      "model_module_version": "1.5.0",
      "model_name": "ProgressStyleModel",
      "state": {
       "_model_module": "@jupyter-widgets/controls",
       "_model_module_version": "1.5.0",
       "_model_name": "ProgressStyleModel",
       "_view_count": null,
       "_view_module": "@jupyter-widgets/base",
       "_view_module_version": "1.2.0",
       "_view_name": "StyleView",
       "bar_color": null,
       "description_width": ""
      }
     },
     "454c9e7f72f645b0a5d59e588a880511": {
      "model_module": "@jupyter-widgets/controls",
      "model_module_version": "1.5.0",
      "model_name": "FloatProgressModel",
      "state": {
       "_dom_classes": [],
       "_model_module": "@jupyter-widgets/controls",
       "_model_module_version": "1.5.0",
       "_model_name": "FloatProgressModel",
       "_view_count": null,
       "_view_module": "@jupyter-widgets/controls",
       "_view_module_version": "1.5.0",
       "_view_name": "ProgressView",
       "bar_style": "success",
       "description": "",
       "description_tooltip": null,
       "layout": "IPY_MODEL_50557c0f57904df8b8bcb09dcad0e5f3",
       "max": 570.0,
       "min": 0.0,
       "orientation": "horizontal",
       "style": "IPY_MODEL_cfbbb68f22bd4fd3a1991c2f6bea5ec9",
       "value": 570.0
      }
     },
     "4d00dacf975c46dabf7e118b0c1524e2": {
      "model_module": "@jupyter-widgets/controls",
      "model_module_version": "1.5.0",
      "model_name": "DescriptionStyleModel",
      "state": {
       "_model_module": "@jupyter-widgets/controls",
       "_model_module_version": "1.5.0",
       "_model_name": "DescriptionStyleModel",
       "_view_count": null,
       "_view_module": "@jupyter-widgets/base",
       "_view_module_version": "1.2.0",
       "_view_name": "StyleView",
       "description_width": ""
      }
     },
     "4dfbbf7a006a492190e4ede97757e9f2": {
      "model_module": "@jupyter-widgets/base",
      "model_module_version": "1.2.0",
      "model_name": "LayoutModel",
      "state": {
       "_model_module": "@jupyter-widgets/base",
       "_model_module_version": "1.2.0",
       "_model_name": "LayoutModel",
       "_view_count": null,
       "_view_module": "@jupyter-widgets/base",
       "_view_module_version": "1.2.0",
       "_view_name": "LayoutView",
       "align_content": null,
       "align_items": null,
       "align_self": null,
       "border": null,
       "bottom": null,
       "display": null,
       "flex": null,
       "flex_flow": null,
       "grid_area": null,
       "grid_auto_columns": null,
       "grid_auto_flow": null,
       "grid_auto_rows": null,
       "grid_column": null,
       "grid_gap": null,
       "grid_row": null,
       "grid_template_areas": null,
       "grid_template_columns": null,
       "grid_template_rows": null,
       "height": null,
       "justify_content": null,
       "justify_items": null,
       "left": null,
       "margin": null,
       "max_height": null,
       "max_width": null,
       "min_height": null,
       "min_width": null,
       "object_fit": null,
       "object_position": null,
       "order": null,
       "overflow": null,
       "overflow_x": null,
       "overflow_y": null,
       "padding": null,
       "right": null,
       "top": null,
       "visibility": null,
       "width": null
      }
     },
     "4fb9b82fd1fa4cae8acc61412d1de439": {
      "model_module": "@jupyter-widgets/base",
      "model_module_version": "1.2.0",
      "model_name": "LayoutModel",
      "state": {
       "_model_module": "@jupyter-widgets/base",
       "_model_module_version": "1.2.0",
       "_model_name": "LayoutModel",
       "_view_count": null,
       "_view_module": "@jupyter-widgets/base",
       "_view_module_version": "1.2.0",
       "_view_name": "LayoutView",
       "align_content": null,
       "align_items": null,
       "align_self": null,
       "border": null,
       "bottom": null,
       "display": null,
       "flex": null,
       "flex_flow": null,
       "grid_area": null,
       "grid_auto_columns": null,
       "grid_auto_flow": null,
       "grid_auto_rows": null,
       "grid_column": null,
       "grid_gap": null,
       "grid_row": null,
       "grid_template_areas": null,
       "grid_template_columns": null,
       "grid_template_rows": null,
       "height": null,
       "justify_content": null,
       "justify_items": null,
       "left": null,
       "margin": null,
       "max_height": null,
       "max_width": null,
       "min_height": null,
       "min_width": null,
       "object_fit": null,
       "object_position": null,
       "order": null,
       "overflow": null,
       "overflow_x": null,
       "overflow_y": null,
       "padding": null,
       "right": null,
       "top": null,
       "visibility": null,
       "width": null
      }
     },
     "50557c0f57904df8b8bcb09dcad0e5f3": {
      "model_module": "@jupyter-widgets/base",
      "model_module_version": "1.2.0",
      "model_name": "LayoutModel",
      "state": {
       "_model_module": "@jupyter-widgets/base",
       "_model_module_version": "1.2.0",
       "_model_name": "LayoutModel",
       "_view_count": null,
       "_view_module": "@jupyter-widgets/base",
       "_view_module_version": "1.2.0",
       "_view_name": "LayoutView",
       "align_content": null,
       "align_items": null,
       "align_self": null,
       "border": null,
       "bottom": null,
       "display": null,
       "flex": null,
       "flex_flow": null,
       "grid_area": null,
       "grid_auto_columns": null,
       "grid_auto_flow": null,
       "grid_auto_rows": null,
       "grid_column": null,
       "grid_gap": null,
       "grid_row": null,
       "grid_template_areas": null,
       "grid_template_columns": null,
       "grid_template_rows": null,
       "height": null,
       "justify_content": null,
       "justify_items": null,
       "left": null,
       "margin": null,
       "max_height": null,
       "max_width": null,
       "min_height": null,
       "min_width": null,
       "object_fit": null,
       "object_position": null,
       "order": null,
       "overflow": null,
       "overflow_x": null,
       "overflow_y": null,
       "padding": null,
       "right": null,
       "top": null,
       "visibility": null,
       "width": null
      }
     },
     "53dee6eae8be4e4688fb2207d819154e": {
      "model_module": "@jupyter-widgets/controls",
      "model_module_version": "1.5.0",
      "model_name": "FloatProgressModel",
      "state": {
       "_dom_classes": [],
       "_model_module": "@jupyter-widgets/controls",
       "_model_module_version": "1.5.0",
       "_model_name": "FloatProgressModel",
       "_view_count": null,
       "_view_module": "@jupyter-widgets/controls",
       "_view_module_version": "1.5.0",
       "_view_name": "ProgressView",
       "bar_style": "success",
       "description": "",
       "description_tooltip": null,
       "layout": "IPY_MODEL_ce23a67ba25e40e99453ca192544bdc5",
       "max": 440449768.0,
       "min": 0.0,
       "orientation": "horizontal",
       "style": "IPY_MODEL_071f1b93a49c4c2b8d9c4e12b1855fb6",
       "value": 440449768.0
      }
     },
     "55ec684757864ddca913e8dfff1ea190": {
      "model_module": "@jupyter-widgets/controls",
      "model_module_version": "1.5.0",
      "model_name": "DescriptionStyleModel",
      "state": {
       "_model_module": "@jupyter-widgets/controls",
       "_model_module_version": "1.5.0",
       "_model_name": "DescriptionStyleModel",
       "_view_count": null,
       "_view_module": "@jupyter-widgets/base",
       "_view_module_version": "1.2.0",
       "_view_name": "StyleView",
       "description_width": ""
      }
     },
     "67b6d6a350ac4578bfc35b876dba21dd": {
      "model_module": "@jupyter-widgets/controls",
      "model_module_version": "1.5.0",
      "model_name": "HTMLModel",
      "state": {
       "_dom_classes": [],
       "_model_module": "@jupyter-widgets/controls",
       "_model_module_version": "1.5.0",
       "_model_name": "HTMLModel",
       "_view_count": null,
       "_view_module": "@jupyter-widgets/controls",
       "_view_module_version": "1.5.0",
       "_view_name": "HTMLView",
       "description": "",
       "description_tooltip": null,
       "layout": "IPY_MODEL_1d51c14f448341809471e3ebf37f3b7e",
       "placeholder": "​",
       "style": "IPY_MODEL_c28bcf8a3ad4412cadf24b0d30504ca2",
       "value": "Downloading model.safetensors: 100%"
      }
     },
     "6f63ad53d448422b81e30287ee50a07b": {
      "model_module": "@jupyter-widgets/base",
      "model_module_version": "1.2.0",
      "model_name": "LayoutModel",
      "state": {
       "_model_module": "@jupyter-widgets/base",
       "_model_module_version": "1.2.0",
       "_model_name": "LayoutModel",
       "_view_count": null,
       "_view_module": "@jupyter-widgets/base",
       "_view_module_version": "1.2.0",
       "_view_name": "LayoutView",
       "align_content": null,
       "align_items": null,
       "align_self": null,
       "border": null,
       "bottom": null,
       "display": null,
       "flex": null,
       "flex_flow": null,
       "grid_area": null,
       "grid_auto_columns": null,
       "grid_auto_flow": null,
       "grid_auto_rows": null,
       "grid_column": null,
       "grid_gap": null,
       "grid_row": null,
       "grid_template_areas": null,
       "grid_template_columns": null,
       "grid_template_rows": null,
       "height": null,
       "justify_content": null,
       "justify_items": null,
       "left": null,
       "margin": null,
       "max_height": null,
       "max_width": null,
       "min_height": null,
       "min_width": null,
       "object_fit": null,
       "object_position": null,
       "order": null,
       "overflow": null,
       "overflow_x": null,
       "overflow_y": null,
       "padding": null,
       "right": null,
       "top": null,
       "visibility": null,
       "width": null
      }
     },
     "7854064ad2a8480aaac1debd877f2f30": {
      "model_module": "@jupyter-widgets/controls",
      "model_module_version": "1.5.0",
      "model_name": "HTMLModel",
      "state": {
       "_dom_classes": [],
       "_model_module": "@jupyter-widgets/controls",
       "_model_module_version": "1.5.0",
       "_model_name": "HTMLModel",
       "_view_count": null,
       "_view_module": "@jupyter-widgets/controls",
       "_view_module_version": "1.5.0",
       "_view_name": "HTMLView",
       "description": "",
       "description_tooltip": null,
       "layout": "IPY_MODEL_6f63ad53d448422b81e30287ee50a07b",
       "placeholder": "​",
       "style": "IPY_MODEL_9b0c4c8efdd142e5aabca697c5080153",
       "value": " 440M/440M [00:02&lt;00:00, 218MB/s]"
      }
     },
     "8038c89694ca4d2daa61fe7efe9b4044": {
      "model_module": "@jupyter-widgets/base",
      "model_module_version": "1.2.0",
      "model_name": "LayoutModel",
      "state": {
       "_model_module": "@jupyter-widgets/base",
       "_model_module_version": "1.2.0",
       "_model_name": "LayoutModel",
       "_view_count": null,
       "_view_module": "@jupyter-widgets/base",
       "_view_module_version": "1.2.0",
       "_view_name": "LayoutView",
       "align_content": null,
       "align_items": null,
       "align_self": null,
       "border": null,
       "bottom": null,
       "display": null,
       "flex": null,
       "flex_flow": null,
       "grid_area": null,
       "grid_auto_columns": null,
       "grid_auto_flow": null,
       "grid_auto_rows": null,
       "grid_column": null,
       "grid_gap": null,
       "grid_row": null,
       "grid_template_areas": null,
       "grid_template_columns": null,
       "grid_template_rows": null,
       "height": null,
       "justify_content": null,
       "justify_items": null,
       "left": null,
       "margin": null,
       "max_height": null,
       "max_width": null,
       "min_height": null,
       "min_width": null,
       "object_fit": null,
       "object_position": null,
       "order": null,
       "overflow": null,
       "overflow_x": null,
       "overflow_y": null,
       "padding": null,
       "right": null,
       "top": null,
       "visibility": null,
       "width": null
      }
     },
     "8d2ef6da412f4b429918d91b38e08ce2": {
      "model_module": "@jupyter-widgets/base",
      "model_module_version": "1.2.0",
      "model_name": "LayoutModel",
      "state": {
       "_model_module": "@jupyter-widgets/base",
       "_model_module_version": "1.2.0",
       "_model_name": "LayoutModel",
       "_view_count": null,
       "_view_module": "@jupyter-widgets/base",
       "_view_module_version": "1.2.0",
       "_view_name": "LayoutView",
       "align_content": null,
       "align_items": null,
       "align_self": null,
       "border": null,
       "bottom": null,
       "display": null,
       "flex": null,
       "flex_flow": null,
       "grid_area": null,
       "grid_auto_columns": null,
       "grid_auto_flow": null,
       "grid_auto_rows": null,
       "grid_column": null,
       "grid_gap": null,
       "grid_row": null,
       "grid_template_areas": null,
       "grid_template_columns": null,
       "grid_template_rows": null,
       "height": null,
       "justify_content": null,
       "justify_items": null,
       "left": null,
       "margin": null,
       "max_height": null,
       "max_width": null,
       "min_height": null,
       "min_width": null,
       "object_fit": null,
       "object_position": null,
       "order": null,
       "overflow": null,
       "overflow_x": null,
       "overflow_y": null,
       "padding": null,
       "right": null,
       "top": null,
       "visibility": null,
       "width": null
      }
     },
     "8ffc68025d5648a18e80cd4eba6bb7ec": {
      "model_module": "@jupyter-widgets/controls",
      "model_module_version": "1.5.0",
      "model_name": "DescriptionStyleModel",
      "state": {
       "_model_module": "@jupyter-widgets/controls",
       "_model_module_version": "1.5.0",
       "_model_name": "DescriptionStyleModel",
       "_view_count": null,
       "_view_module": "@jupyter-widgets/base",
       "_view_module_version": "1.2.0",
       "_view_name": "StyleView",
       "description_width": ""
      }
     },
     "911420504bb04465b6ed70e7926617fd": {
      "model_module": "@jupyter-widgets/controls",
      "model_module_version": "1.5.0",
      "model_name": "HBoxModel",
      "state": {
       "_dom_classes": [],
       "_model_module": "@jupyter-widgets/controls",
       "_model_module_version": "1.5.0",
       "_model_name": "HBoxModel",
       "_view_count": null,
       "_view_module": "@jupyter-widgets/controls",
       "_view_module_version": "1.5.0",
       "_view_name": "HBoxView",
       "box_style": "",
       "children": [
        "IPY_MODEL_eb0c960e45fd49d3a0049a2e5575b740",
        "IPY_MODEL_454c9e7f72f645b0a5d59e588a880511",
        "IPY_MODEL_b9a61c4599914b92a81e7bd150bdabfc"
       ],
       "layout": "IPY_MODEL_cb7559d06085482ba678ada6cf2333fd"
      }
     },
     "91364cccee8d4998aece38419c64d828": {
      "model_module": "@jupyter-widgets/controls",
      "model_module_version": "1.5.0",
      "model_name": "HTMLModel",
      "state": {
       "_dom_classes": [],
       "_model_module": "@jupyter-widgets/controls",
       "_model_module_version": "1.5.0",
       "_model_name": "HTMLModel",
       "_view_count": null,
       "_view_module": "@jupyter-widgets/controls",
       "_view_module_version": "1.5.0",
       "_view_name": "HTMLView",
       "description": "",
       "description_tooltip": null,
       "layout": "IPY_MODEL_9d9640e61a8643f89e5589c6a1c9af0a",
       "placeholder": "​",
       "style": "IPY_MODEL_8ffc68025d5648a18e80cd4eba6bb7ec",
       "value": "Downloading (…)okenizer_config.json: 100%"
      }
     },
     "9b0c4c8efdd142e5aabca697c5080153": {
      "model_module": "@jupyter-widgets/controls",
      "model_module_version": "1.5.0",
      "model_name": "DescriptionStyleModel",
      "state": {
       "_model_module": "@jupyter-widgets/controls",
       "_model_module_version": "1.5.0",
       "_model_name": "DescriptionStyleModel",
       "_view_count": null,
       "_view_module": "@jupyter-widgets/base",
       "_view_module_version": "1.2.0",
       "_view_name": "StyleView",
       "description_width": ""
      }
     },
     "9d9640e61a8643f89e5589c6a1c9af0a": {
      "model_module": "@jupyter-widgets/base",
      "model_module_version": "1.2.0",
      "model_name": "LayoutModel",
      "state": {
       "_model_module": "@jupyter-widgets/base",
       "_model_module_version": "1.2.0",
       "_model_name": "LayoutModel",
       "_view_count": null,
       "_view_module": "@jupyter-widgets/base",
       "_view_module_version": "1.2.0",
       "_view_name": "LayoutView",
       "align_content": null,
       "align_items": null,
       "align_self": null,
       "border": null,
       "bottom": null,
       "display": null,
       "flex": null,
       "flex_flow": null,
       "grid_area": null,
       "grid_auto_columns": null,
       "grid_auto_flow": null,
       "grid_auto_rows": null,
       "grid_column": null,
       "grid_gap": null,
       "grid_row": null,
       "grid_template_areas": null,
       "grid_template_columns": null,
       "grid_template_rows": null,
       "height": null,
       "justify_content": null,
       "justify_items": null,
       "left": null,
       "margin": null,
       "max_height": null,
       "max_width": null,
       "min_height": null,
       "min_width": null,
       "object_fit": null,
       "object_position": null,
       "order": null,
       "overflow": null,
       "overflow_x": null,
       "overflow_y": null,
       "padding": null,
       "right": null,
       "top": null,
       "visibility": null,
       "width": null
      }
     },
     "a1114bf61444461d9596f59e58c64600": {
      "model_module": "@jupyter-widgets/controls",
      "model_module_version": "1.5.0",
      "model_name": "HBoxModel",
      "state": {
       "_dom_classes": [],
       "_model_module": "@jupyter-widgets/controls",
       "_model_module_version": "1.5.0",
       "_model_name": "HBoxModel",
       "_view_count": null,
       "_view_module": "@jupyter-widgets/controls",
       "_view_module_version": "1.5.0",
       "_view_name": "HBoxView",
       "box_style": "",
       "children": [
        "IPY_MODEL_fabe88790c354cb0a9091dec0868ad4e",
        "IPY_MODEL_1410afa8fe4049a186e5c8a3417de0ce",
        "IPY_MODEL_18d5591413824e01b9be50a59fdac940"
       ],
       "layout": "IPY_MODEL_4dfbbf7a006a492190e4ede97757e9f2"
      }
     },
     "a4ee035787644573a706f68744bb3f56": {
      "model_module": "@jupyter-widgets/controls",
      "model_module_version": "1.5.0",
      "model_name": "HBoxModel",
      "state": {
       "_dom_classes": [],
       "_model_module": "@jupyter-widgets/controls",
       "_model_module_version": "1.5.0",
       "_model_name": "HBoxModel",
       "_view_count": null,
       "_view_module": "@jupyter-widgets/controls",
       "_view_module_version": "1.5.0",
       "_view_name": "HBoxView",
       "box_style": "",
       "children": [
        "IPY_MODEL_67b6d6a350ac4578bfc35b876dba21dd",
        "IPY_MODEL_53dee6eae8be4e4688fb2207d819154e",
        "IPY_MODEL_7854064ad2a8480aaac1debd877f2f30"
       ],
       "layout": "IPY_MODEL_22f0ec21876d48f4985f1e304c35fa1c"
      }
     },
     "a632ac1d4e364c8188157269b9988d24": {
      "model_module": "@jupyter-widgets/controls",
      "model_module_version": "1.5.0",
      "model_name": "DescriptionStyleModel",
      "state": {
       "_model_module": "@jupyter-widgets/controls",
       "_model_module_version": "1.5.0",
       "_model_name": "DescriptionStyleModel",
       "_view_count": null,
       "_view_module": "@jupyter-widgets/base",
       "_view_module_version": "1.2.0",
       "_view_name": "StyleView",
       "description_width": ""
      }
     },
     "b5cefa2fd16f4e64a38dec2f4fb680aa": {
      "model_module": "@jupyter-widgets/controls",
      "model_module_version": "1.5.0",
      "model_name": "HBoxModel",
      "state": {
       "_dom_classes": [],
       "_model_module": "@jupyter-widgets/controls",
       "_model_module_version": "1.5.0",
       "_model_name": "HBoxModel",
       "_view_count": null,
       "_view_module": "@jupyter-widgets/controls",
       "_view_module_version": "1.5.0",
       "_view_name": "HBoxView",
       "box_style": "",
       "children": [
        "IPY_MODEL_91364cccee8d4998aece38419c64d828",
        "IPY_MODEL_f3622cdc89ab421b8ead93a25fc2a62a",
        "IPY_MODEL_e95b370fa124434a9f118f311779e333"
       ],
       "layout": "IPY_MODEL_8038c89694ca4d2daa61fe7efe9b4044"
      }
     },
     "b9a61c4599914b92a81e7bd150bdabfc": {
      "model_module": "@jupyter-widgets/controls",
      "model_module_version": "1.5.0",
      "model_name": "HTMLModel",
      "state": {
       "_dom_classes": [],
       "_model_module": "@jupyter-widgets/controls",
       "_model_module_version": "1.5.0",
       "_model_name": "HTMLModel",
       "_view_count": null,
       "_view_module": "@jupyter-widgets/controls",
       "_view_module_version": "1.5.0",
       "_view_name": "HTMLView",
       "description": "",
       "description_tooltip": null,
       "layout": "IPY_MODEL_eaff00243f6847b5af8f8c162bd37b7b",
       "placeholder": "​",
       "style": "IPY_MODEL_55ec684757864ddca913e8dfff1ea190",
       "value": " 570/570 [00:00&lt;00:00, 46.9kB/s]"
      }
     },
     "bd4fa00b1db649d89d1a4ff5164be860": {
      "model_module": "@jupyter-widgets/controls",
      "model_module_version": "1.5.0",
      "model_name": "DescriptionStyleModel",
      "state": {
       "_model_module": "@jupyter-widgets/controls",
       "_model_module_version": "1.5.0",
       "_model_name": "DescriptionStyleModel",
       "_view_count": null,
       "_view_module": "@jupyter-widgets/base",
       "_view_module_version": "1.2.0",
       "_view_name": "StyleView",
       "description_width": ""
      }
     },
     "c28bcf8a3ad4412cadf24b0d30504ca2": {
      "model_module": "@jupyter-widgets/controls",
      "model_module_version": "1.5.0",
      "model_name": "DescriptionStyleModel",
      "state": {
       "_model_module": "@jupyter-widgets/controls",
       "_model_module_version": "1.5.0",
       "_model_name": "DescriptionStyleModel",
       "_view_count": null,
       "_view_module": "@jupyter-widgets/base",
       "_view_module_version": "1.2.0",
       "_view_name": "StyleView",
       "description_width": ""
      }
     },
     "cb7559d06085482ba678ada6cf2333fd": {
      "model_module": "@jupyter-widgets/base",
      "model_module_version": "1.2.0",
      "model_name": "LayoutModel",
      "state": {
       "_model_module": "@jupyter-widgets/base",
       "_model_module_version": "1.2.0",
       "_model_name": "LayoutModel",
       "_view_count": null,
       "_view_module": "@jupyter-widgets/base",
       "_view_module_version": "1.2.0",
       "_view_name": "LayoutView",
       "align_content": null,
       "align_items": null,
       "align_self": null,
       "border": null,
       "bottom": null,
       "display": null,
       "flex": null,
       "flex_flow": null,
       "grid_area": null,
       "grid_auto_columns": null,
       "grid_auto_flow": null,
       "grid_auto_rows": null,
       "grid_column": null,
       "grid_gap": null,
       "grid_row": null,
       "grid_template_areas": null,
       "grid_template_columns": null,
       "grid_template_rows": null,
       "height": null,
       "justify_content": null,
       "justify_items": null,
       "left": null,
       "margin": null,
       "max_height": null,
       "max_width": null,
       "min_height": null,
       "min_width": null,
       "object_fit": null,
       "object_position": null,
       "order": null,
       "overflow": null,
       "overflow_x": null,
       "overflow_y": null,
       "padding": null,
       "right": null,
       "top": null,
       "visibility": null,
       "width": null
      }
     },
     "ce23a67ba25e40e99453ca192544bdc5": {
      "model_module": "@jupyter-widgets/base",
      "model_module_version": "1.2.0",
      "model_name": "LayoutModel",
      "state": {
       "_model_module": "@jupyter-widgets/base",
       "_model_module_version": "1.2.0",
       "_model_name": "LayoutModel",
       "_view_count": null,
       "_view_module": "@jupyter-widgets/base",
       "_view_module_version": "1.2.0",
       "_view_name": "LayoutView",
       "align_content": null,
       "align_items": null,
       "align_self": null,
       "border": null,
       "bottom": null,
       "display": null,
       "flex": null,
       "flex_flow": null,
       "grid_area": null,
       "grid_auto_columns": null,
       "grid_auto_flow": null,
       "grid_auto_rows": null,
       "grid_column": null,
       "grid_gap": null,
       "grid_row": null,
       "grid_template_areas": null,
       "grid_template_columns": null,
       "grid_template_rows": null,
       "height": null,
       "justify_content": null,
       "justify_items": null,
       "left": null,
       "margin": null,
       "max_height": null,
       "max_width": null,
       "min_height": null,
       "min_width": null,
       "object_fit": null,
       "object_position": null,
       "order": null,
       "overflow": null,
       "overflow_x": null,
       "overflow_y": null,
       "padding": null,
       "right": null,
       "top": null,
       "visibility": null,
       "width": null
      }
     },
     "cfbbb68f22bd4fd3a1991c2f6bea5ec9": {
      "model_module": "@jupyter-widgets/controls",
      "model_module_version": "1.5.0",
      "model_name": "ProgressStyleModel",
      "state": {
       "_model_module": "@jupyter-widgets/controls",
       "_model_module_version": "1.5.0",
       "_model_name": "ProgressStyleModel",
       "_view_count": null,
       "_view_module": "@jupyter-widgets/base",
       "_view_module_version": "1.2.0",
       "_view_name": "StyleView",
       "bar_color": null,
       "description_width": ""
      }
     },
     "e95b370fa124434a9f118f311779e333": {
      "model_module": "@jupyter-widgets/controls",
      "model_module_version": "1.5.0",
      "model_name": "HTMLModel",
      "state": {
       "_dom_classes": [],
       "_model_module": "@jupyter-widgets/controls",
       "_model_module_version": "1.5.0",
       "_model_name": "HTMLModel",
       "_view_count": null,
       "_view_module": "@jupyter-widgets/controls",
       "_view_module_version": "1.5.0",
       "_view_name": "HTMLView",
       "description": "",
       "description_tooltip": null,
       "layout": "IPY_MODEL_4fb9b82fd1fa4cae8acc61412d1de439",
       "placeholder": "​",
       "style": "IPY_MODEL_bd4fa00b1db649d89d1a4ff5164be860",
       "value": " 28.0/28.0 [00:00&lt;00:00, 2.23kB/s]"
      }
     },
     "eaff00243f6847b5af8f8c162bd37b7b": {
      "model_module": "@jupyter-widgets/base",
      "model_module_version": "1.2.0",
      "model_name": "LayoutModel",
      "state": {
       "_model_module": "@jupyter-widgets/base",
       "_model_module_version": "1.2.0",
       "_model_name": "LayoutModel",
       "_view_count": null,
       "_view_module": "@jupyter-widgets/base",
       "_view_module_version": "1.2.0",
       "_view_name": "LayoutView",
       "align_content": null,
       "align_items": null,
       "align_self": null,
       "border": null,
       "bottom": null,
       "display": null,
       "flex": null,
       "flex_flow": null,
       "grid_area": null,
       "grid_auto_columns": null,
       "grid_auto_flow": null,
       "grid_auto_rows": null,
       "grid_column": null,
       "grid_gap": null,
       "grid_row": null,
       "grid_template_areas": null,
       "grid_template_columns": null,
       "grid_template_rows": null,
       "height": null,
       "justify_content": null,
       "justify_items": null,
       "left": null,
       "margin": null,
       "max_height": null,
       "max_width": null,
       "min_height": null,
       "min_width": null,
       "object_fit": null,
       "object_position": null,
       "order": null,
       "overflow": null,
       "overflow_x": null,
       "overflow_y": null,
       "padding": null,
       "right": null,
       "top": null,
       "visibility": null,
       "width": null
      }
     },
     "eb0c960e45fd49d3a0049a2e5575b740": {
      "model_module": "@jupyter-widgets/controls",
      "model_module_version": "1.5.0",
      "model_name": "HTMLModel",
      "state": {
       "_dom_classes": [],
       "_model_module": "@jupyter-widgets/controls",
       "_model_module_version": "1.5.0",
       "_model_name": "HTMLModel",
       "_view_count": null,
       "_view_module": "@jupyter-widgets/controls",
       "_view_module_version": "1.5.0",
       "_view_name": "HTMLView",
       "description": "",
       "description_tooltip": null,
       "layout": "IPY_MODEL_8d2ef6da412f4b429918d91b38e08ce2",
       "placeholder": "​",
       "style": "IPY_MODEL_177f510521324415a183d5e3596adcb4",
       "value": "Downloading (…)lve/main/config.json: 100%"
      }
     },
     "f1c1cbcc064248fe8771d31ce5b8db64": {
      "model_module": "@jupyter-widgets/base",
      "model_module_version": "1.2.0",
      "model_name": "LayoutModel",
      "state": {
       "_model_module": "@jupyter-widgets/base",
       "_model_module_version": "1.2.0",
       "_model_name": "LayoutModel",
       "_view_count": null,
       "_view_module": "@jupyter-widgets/base",
       "_view_module_version": "1.2.0",
       "_view_name": "LayoutView",
       "align_content": null,
       "align_items": null,
       "align_self": null,
       "border": null,
       "bottom": null,
       "display": null,
       "flex": null,
       "flex_flow": null,
       "grid_area": null,
       "grid_auto_columns": null,
       "grid_auto_flow": null,
       "grid_auto_rows": null,
       "grid_column": null,
       "grid_gap": null,
       "grid_row": null,
       "grid_template_areas": null,
       "grid_template_columns": null,
       "grid_template_rows": null,
       "height": null,
       "justify_content": null,
       "justify_items": null,
       "left": null,
       "margin": null,
       "max_height": null,
       "max_width": null,
       "min_height": null,
       "min_width": null,
       "object_fit": null,
       "object_position": null,
       "order": null,
       "overflow": null,
       "overflow_x": null,
       "overflow_y": null,
       "padding": null,
       "right": null,
       "top": null,
       "visibility": null,
       "width": null
      }
     },
     "f3622cdc89ab421b8ead93a25fc2a62a": {
      "model_module": "@jupyter-widgets/controls",
      "model_module_version": "1.5.0",
      "model_name": "FloatProgressModel",
      "state": {
       "_dom_classes": [],
       "_model_module": "@jupyter-widgets/controls",
       "_model_module_version": "1.5.0",
       "_model_name": "FloatProgressModel",
       "_view_count": null,
       "_view_module": "@jupyter-widgets/controls",
       "_view_module_version": "1.5.0",
       "_view_name": "ProgressView",
       "bar_style": "success",
       "description": "",
       "description_tooltip": null,
       "layout": "IPY_MODEL_f1c1cbcc064248fe8771d31ce5b8db64",
       "max": 28.0,
       "min": 0.0,
       "orientation": "horizontal",
       "style": "IPY_MODEL_43bae570802b40418926a86e10f9786d",
       "value": 28.0
      }
     },
     "fabe88790c354cb0a9091dec0868ad4e": {
      "model_module": "@jupyter-widgets/controls",
      "model_module_version": "1.5.0",
      "model_name": "HTMLModel",
      "state": {
       "_dom_classes": [],
       "_model_module": "@jupyter-widgets/controls",
       "_model_module_version": "1.5.0",
       "_model_name": "HTMLModel",
       "_view_count": null,
       "_view_module": "@jupyter-widgets/controls",
       "_view_module_version": "1.5.0",
       "_view_name": "HTMLView",
       "description": "",
       "description_tooltip": null,
       "layout": "IPY_MODEL_0062c09bec2a4190adc79d9cec795038",
       "placeholder": "​",
       "style": "IPY_MODEL_a632ac1d4e364c8188157269b9988d24",
       "value": "Downloading (…)solve/main/vocab.txt: 100%"
      }
     }
    },
    "version_major": 2,
    "version_minor": 0
   }
  }
 },
 "nbformat": 4,
 "nbformat_minor": 5
}
